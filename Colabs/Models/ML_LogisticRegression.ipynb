{
  "nbformat": 4,
  "nbformat_minor": 0,
  "metadata": {
    "colab": {
      "name": "ML_LogisticRegression.ipynb",
      "provenance": [],
      "collapsed_sections": [],
      "authorship_tag": "ABX9TyO416LJxVu2CbJFFnlwtwyK",
      "include_colab_link": true
    },
    "kernelspec": {
      "name": "python3",
      "display_name": "Python 3"
    },
    "accelerator": "GPU"
  },
  "cells": [
    {
      "cell_type": "markdown",
      "metadata": {
        "id": "view-in-github",
        "colab_type": "text"
      },
      "source": [
        "<a href=\"https://colab.research.google.com/github/Gowri-Rk/Machine-Learning/blob/master/Colabs/Models/ML_LogisticRegression.ipynb\" target=\"_parent\"><img src=\"https://colab.research.google.com/assets/colab-badge.svg\" alt=\"Open In Colab\"/></a>"
      ]
    },
    {
      "cell_type": "code",
      "metadata": {
        "id": "QTW8KJjU6eZY",
        "colab_type": "code",
        "colab": {}
      },
      "source": [
        "import pandas as pd\n",
        "import matplotlib.pyplot as plt\n",
        "import numpy as np\n",
        "from sklearn import datasets, linear_model\n",
        "from sklearn.metrics import mean_squared_error, r2_score\n",
        "\n",
        "from sklearn import preprocessing\n",
        "from sklearn import utils\n",
        "\n",
        "from sklearn.linear_model import LogisticRegression\n",
        "from sklearn import metrics\n",
        "from sklearn.model_selection import train_test_split\n"
      ],
      "execution_count": null,
      "outputs": []
    },
    {
      "cell_type": "code",
      "metadata": {
        "id": "ap7J_fO69ey6",
        "colab_type": "code",
        "colab": {
          "base_uri": "https://localhost:8080/",
          "height": 34
        },
        "outputId": "8127339e-90b9-4905-bb43-4dd62614d54a"
      },
      "source": [
        "from google.colab import drive\n",
        "drive.mount('/content/gdrive', force_remount=True)"
      ],
      "execution_count": null,
      "outputs": [
        {
          "output_type": "stream",
          "text": [
            "Mounted at /content/gdrive\n"
          ],
          "name": "stdout"
        }
      ]
    },
    {
      "cell_type": "code",
      "metadata": {
        "id": "9NpWfClz9ql1",
        "colab_type": "code",
        "colab": {}
      },
      "source": [
        "\n",
        "df_exams = pd.read_csv('/content/gdrive/My Drive/MLSpring2020/datatribe-nutritionbasediseaseprediction/Datasets/Exam_Cleaned.csv', encoding='unicode_escape')"
      ],
      "execution_count": null,
      "outputs": []
    },
    {
      "cell_type": "code",
      "metadata": {
        "id": "ojQCysNY91Kx",
        "colab_type": "code",
        "colab": {
          "base_uri": "https://localhost:8080/",
          "height": 195
        },
        "outputId": "03be290f-6616-4bd9-e215-81388d327b66"
      },
      "source": [
        "df_exams.head()"
      ],
      "execution_count": null,
      "outputs": [
        {
          "output_type": "execute_result",
          "data": {
            "text/html": [
              "<div>\n",
              "<style scoped>\n",
              "    .dataframe tbody tr th:only-of-type {\n",
              "        vertical-align: middle;\n",
              "    }\n",
              "\n",
              "    .dataframe tbody tr th {\n",
              "        vertical-align: top;\n",
              "    }\n",
              "\n",
              "    .dataframe thead th {\n",
              "        text-align: right;\n",
              "    }\n",
              "</style>\n",
              "<table border=\"1\" class=\"dataframe\">\n",
              "  <thead>\n",
              "    <tr style=\"text-align: right;\">\n",
              "      <th></th>\n",
              "      <th>Unnamed: 0</th>\n",
              "      <th>Unnamed: 0.1</th>\n",
              "      <th>SEQN</th>\n",
              "      <th>PEASCST1</th>\n",
              "      <th>PEASCTM1</th>\n",
              "      <th>BPXPLS</th>\n",
              "      <th>BPXPULS</th>\n",
              "      <th>BPXML1</th>\n",
              "      <th>BPXSY1</th>\n",
              "      <th>BPXDI1</th>\n",
              "      <th>BPXSY2</th>\n",
              "      <th>BPXDI2</th>\n",
              "      <th>BPXSY3</th>\n",
              "      <th>BPXDI3</th>\n",
              "      <th>BMXWT</th>\n",
              "      <th>BMXHT</th>\n",
              "      <th>BMXBMI</th>\n",
              "      <th>BMDAVSAD</th>\n",
              "      <th>MGDEXSTS</th>\n",
              "    </tr>\n",
              "  </thead>\n",
              "  <tbody>\n",
              "    <tr>\n",
              "      <th>0</th>\n",
              "      <td>0</td>\n",
              "      <td>0</td>\n",
              "      <td>73557</td>\n",
              "      <td>1</td>\n",
              "      <td>620.0</td>\n",
              "      <td>86.0</td>\n",
              "      <td>1.0</td>\n",
              "      <td>140.0</td>\n",
              "      <td>122.0</td>\n",
              "      <td>72.0</td>\n",
              "      <td>114.0</td>\n",
              "      <td>76.0</td>\n",
              "      <td>102.0</td>\n",
              "      <td>74.0</td>\n",
              "      <td>78.3</td>\n",
              "      <td>171.3</td>\n",
              "      <td>26.7</td>\n",
              "      <td>20.600000</td>\n",
              "      <td>1.0</td>\n",
              "    </tr>\n",
              "    <tr>\n",
              "      <th>1</th>\n",
              "      <td>1</td>\n",
              "      <td>1</td>\n",
              "      <td>73558</td>\n",
              "      <td>1</td>\n",
              "      <td>766.0</td>\n",
              "      <td>74.0</td>\n",
              "      <td>1.0</td>\n",
              "      <td>170.0</td>\n",
              "      <td>156.0</td>\n",
              "      <td>62.0</td>\n",
              "      <td>160.0</td>\n",
              "      <td>80.0</td>\n",
              "      <td>156.0</td>\n",
              "      <td>42.0</td>\n",
              "      <td>89.5</td>\n",
              "      <td>176.8</td>\n",
              "      <td>28.6</td>\n",
              "      <td>24.400000</td>\n",
              "      <td>1.0</td>\n",
              "    </tr>\n",
              "    <tr>\n",
              "      <th>2</th>\n",
              "      <td>2</td>\n",
              "      <td>2</td>\n",
              "      <td>73559</td>\n",
              "      <td>1</td>\n",
              "      <td>665.0</td>\n",
              "      <td>68.0</td>\n",
              "      <td>1.0</td>\n",
              "      <td>160.0</td>\n",
              "      <td>140.0</td>\n",
              "      <td>90.0</td>\n",
              "      <td>140.0</td>\n",
              "      <td>76.0</td>\n",
              "      <td>146.0</td>\n",
              "      <td>80.0</td>\n",
              "      <td>88.9</td>\n",
              "      <td>175.3</td>\n",
              "      <td>28.9</td>\n",
              "      <td>25.600000</td>\n",
              "      <td>1.0</td>\n",
              "    </tr>\n",
              "    <tr>\n",
              "      <th>3</th>\n",
              "      <td>3</td>\n",
              "      <td>3</td>\n",
              "      <td>73560</td>\n",
              "      <td>1</td>\n",
              "      <td>803.0</td>\n",
              "      <td>64.0</td>\n",
              "      <td>1.0</td>\n",
              "      <td>130.0</td>\n",
              "      <td>108.0</td>\n",
              "      <td>38.0</td>\n",
              "      <td>102.0</td>\n",
              "      <td>34.0</td>\n",
              "      <td>104.0</td>\n",
              "      <td>38.0</td>\n",
              "      <td>32.2</td>\n",
              "      <td>137.3</td>\n",
              "      <td>17.1</td>\n",
              "      <td>14.900000</td>\n",
              "      <td>1.0</td>\n",
              "    </tr>\n",
              "    <tr>\n",
              "      <th>4</th>\n",
              "      <td>4</td>\n",
              "      <td>4</td>\n",
              "      <td>73561</td>\n",
              "      <td>1</td>\n",
              "      <td>949.0</td>\n",
              "      <td>92.0</td>\n",
              "      <td>1.0</td>\n",
              "      <td>170.0</td>\n",
              "      <td>136.0</td>\n",
              "      <td>86.0</td>\n",
              "      <td>134.0</td>\n",
              "      <td>88.0</td>\n",
              "      <td>142.0</td>\n",
              "      <td>86.0</td>\n",
              "      <td>52.0</td>\n",
              "      <td>162.4</td>\n",
              "      <td>19.7</td>\n",
              "      <td>21.114034</td>\n",
              "      <td>1.0</td>\n",
              "    </tr>\n",
              "  </tbody>\n",
              "</table>\n",
              "</div>"
            ],
            "text/plain": [
              "   Unnamed: 0  Unnamed: 0.1   SEQN  ...  BMXBMI   BMDAVSAD  MGDEXSTS\n",
              "0           0             0  73557  ...    26.7  20.600000       1.0\n",
              "1           1             1  73558  ...    28.6  24.400000       1.0\n",
              "2           2             2  73559  ...    28.9  25.600000       1.0\n",
              "3           3             3  73560  ...    17.1  14.900000       1.0\n",
              "4           4             4  73561  ...    19.7  21.114034       1.0\n",
              "\n",
              "[5 rows x 19 columns]"
            ]
          },
          "metadata": {
            "tags": []
          },
          "execution_count": 71
        }
      ]
    },
    {
      "cell_type": "code",
      "metadata": {
        "id": "YqRyASZF921z",
        "colab_type": "code",
        "colab": {}
      },
      "source": [
        "df_labs2 = pd.read_csv('/content/gdrive/My Drive/MLSpring2020/datatribe-nutritionbasediseaseprediction/Datasets/Reduced_labs_cleaned.csv', encoding='unicode_escape')"
      ],
      "execution_count": null,
      "outputs": []
    },
    {
      "cell_type": "code",
      "metadata": {
        "id": "JgTtkfk398_i",
        "colab_type": "code",
        "colab": {
          "base_uri": "https://localhost:8080/",
          "height": 261
        },
        "outputId": "6f4ad773-c60c-4f23-c368-72f902174a6c"
      },
      "source": [
        "df_labs2.head()"
      ],
      "execution_count": null,
      "outputs": [
        {
          "output_type": "execute_result",
          "data": {
            "text/html": [
              "<div>\n",
              "<style scoped>\n",
              "    .dataframe tbody tr th:only-of-type {\n",
              "        vertical-align: middle;\n",
              "    }\n",
              "\n",
              "    .dataframe tbody tr th {\n",
              "        vertical-align: top;\n",
              "    }\n",
              "\n",
              "    .dataframe thead th {\n",
              "        text-align: right;\n",
              "    }\n",
              "</style>\n",
              "<table border=\"1\" class=\"dataframe\">\n",
              "  <thead>\n",
              "    <tr style=\"text-align: right;\">\n",
              "      <th></th>\n",
              "      <th>Unnamed: 0</th>\n",
              "      <th>SEQN</th>\n",
              "      <th>URXUMA</th>\n",
              "      <th>URXUMS</th>\n",
              "      <th>URXUCR.x</th>\n",
              "      <th>URXCRS</th>\n",
              "      <th>URDACT</th>\n",
              "      <th>WTSAF2YR.x</th>\n",
              "      <th>LBDAPBSI</th>\n",
              "      <th>LBXSAL</th>\n",
              "      <th>LBDSALSI</th>\n",
              "      <th>LBXSAPSI</th>\n",
              "      <th>LBXSASSI</th>\n",
              "      <th>LBXSATSI</th>\n",
              "      <th>LBXSBU</th>\n",
              "      <th>LBDSBUSI</th>\n",
              "      <th>LBXSC3SI</th>\n",
              "      <th>LBXSCA</th>\n",
              "      <th>LBDSCASI</th>\n",
              "      <th>LBXSCH</th>\n",
              "      <th>LBDSCHSI</th>\n",
              "      <th>LBXSCK</th>\n",
              "      <th>LBXSCLSI</th>\n",
              "      <th>LBXSCR</th>\n",
              "      <th>LBDSCRSI</th>\n",
              "      <th>LBXSGB</th>\n",
              "      <th>LBDSGBSI</th>\n",
              "      <th>LBXSGL</th>\n",
              "      <th>LBDSGLSI</th>\n",
              "      <th>LBXSGTSI</th>\n",
              "      <th>LBXSIR</th>\n",
              "      <th>LBDSIRSI</th>\n",
              "      <th>LBXSKSI</th>\n",
              "      <th>LBXSLDSI</th>\n",
              "      <th>LBXSNASI</th>\n",
              "      <th>LBXSOSSI</th>\n",
              "      <th>LBXSPH</th>\n",
              "      <th>LBDSPHSI</th>\n",
              "      <th>LBXSTB</th>\n",
              "      <th>LBDSTBSI</th>\n",
              "      <th>...</th>\n",
              "      <th>PHAFSTHR.y</th>\n",
              "      <th>PHAFSTMN.y</th>\n",
              "      <th>URXUIO</th>\n",
              "      <th>WTSAF2YR</th>\n",
              "      <th>LBXTR</th>\n",
              "      <th>LBDTRSI</th>\n",
              "      <th>LBDLDL</th>\n",
              "      <th>LBDLDLSI</th>\n",
              "      <th>WTSH2YR.x</th>\n",
              "      <th>WTSOG2YR</th>\n",
              "      <th>LBXGLT</th>\n",
              "      <th>LBDGLTSI</th>\n",
              "      <th>GTDSCMMN</th>\n",
              "      <th>GTDDR1MN</th>\n",
              "      <th>GTDBL2MN</th>\n",
              "      <th>GTDDR2MN</th>\n",
              "      <th>GTXDRANK</th>\n",
              "      <th>PHAFSTHR</th>\n",
              "      <th>PHAFSTMN</th>\n",
              "      <th>WTSA2YR.y</th>\n",
              "      <th>LBXTC</th>\n",
              "      <th>LBDTCSI</th>\n",
              "      <th>LBXBPB</th>\n",
              "      <th>LBDBPBSI</th>\n",
              "      <th>LBDBPBLC</th>\n",
              "      <th>LBXBCD</th>\n",
              "      <th>LBDBCDSI</th>\n",
              "      <th>LBDBCDLC</th>\n",
              "      <th>LBXTHG</th>\n",
              "      <th>LBDTHGSI</th>\n",
              "      <th>LBDTHGLC</th>\n",
              "      <th>LBXBSE</th>\n",
              "      <th>LBDBSESI</th>\n",
              "      <th>LBDBSELC</th>\n",
              "      <th>LBXBMN</th>\n",
              "      <th>LBDBMNSI</th>\n",
              "      <th>LBDBMNLC</th>\n",
              "      <th>URXVOL1</th>\n",
              "      <th>LBDB12</th>\n",
              "      <th>LBDB12SI</th>\n",
              "    </tr>\n",
              "  </thead>\n",
              "  <tbody>\n",
              "    <tr>\n",
              "      <th>0</th>\n",
              "      <td>0</td>\n",
              "      <td>73557</td>\n",
              "      <td>4.3</td>\n",
              "      <td>4.3</td>\n",
              "      <td>39.0</td>\n",
              "      <td>3447.6</td>\n",
              "      <td>11.03</td>\n",
              "      <td>NaN</td>\n",
              "      <td>NaN</td>\n",
              "      <td>4.1</td>\n",
              "      <td>41.0</td>\n",
              "      <td>129.0</td>\n",
              "      <td>16.0</td>\n",
              "      <td>16.0</td>\n",
              "      <td>10.0</td>\n",
              "      <td>3.57</td>\n",
              "      <td>27.0</td>\n",
              "      <td>9.5</td>\n",
              "      <td>2.375</td>\n",
              "      <td>168.0</td>\n",
              "      <td>4.344</td>\n",
              "      <td>174.0</td>\n",
              "      <td>97.0</td>\n",
              "      <td>1.21</td>\n",
              "      <td>106.96</td>\n",
              "      <td>2.4</td>\n",
              "      <td>24.0</td>\n",
              "      <td>554.0</td>\n",
              "      <td>30.75</td>\n",
              "      <td>16.0</td>\n",
              "      <td>58.0</td>\n",
              "      <td>10.4</td>\n",
              "      <td>4.3</td>\n",
              "      <td>118.0</td>\n",
              "      <td>136.0</td>\n",
              "      <td>296.0</td>\n",
              "      <td>4.3</td>\n",
              "      <td>1.388</td>\n",
              "      <td>0.8</td>\n",
              "      <td>13.68</td>\n",
              "      <td>...</td>\n",
              "      <td>NaN</td>\n",
              "      <td>NaN</td>\n",
              "      <td>NaN</td>\n",
              "      <td>NaN</td>\n",
              "      <td>NaN</td>\n",
              "      <td>NaN</td>\n",
              "      <td>NaN</td>\n",
              "      <td>NaN</td>\n",
              "      <td>NaN</td>\n",
              "      <td>NaN</td>\n",
              "      <td>NaN</td>\n",
              "      <td>NaN</td>\n",
              "      <td>NaN</td>\n",
              "      <td>NaN</td>\n",
              "      <td>NaN</td>\n",
              "      <td>NaN</td>\n",
              "      <td>NaN</td>\n",
              "      <td>NaN</td>\n",
              "      <td>NaN</td>\n",
              "      <td>NaN</td>\n",
              "      <td>167.0</td>\n",
              "      <td>4.32</td>\n",
              "      <td>NaN</td>\n",
              "      <td>NaN</td>\n",
              "      <td>NaN</td>\n",
              "      <td>NaN</td>\n",
              "      <td>NaN</td>\n",
              "      <td>NaN</td>\n",
              "      <td>NaN</td>\n",
              "      <td>NaN</td>\n",
              "      <td>NaN</td>\n",
              "      <td>NaN</td>\n",
              "      <td>NaN</td>\n",
              "      <td>NaN</td>\n",
              "      <td>NaN</td>\n",
              "      <td>NaN</td>\n",
              "      <td>NaN</td>\n",
              "      <td>87.0</td>\n",
              "      <td>524.0</td>\n",
              "      <td>386.7</td>\n",
              "    </tr>\n",
              "    <tr>\n",
              "      <th>1</th>\n",
              "      <td>1</td>\n",
              "      <td>73558</td>\n",
              "      <td>153.0</td>\n",
              "      <td>153.0</td>\n",
              "      <td>50.0</td>\n",
              "      <td>4420.0</td>\n",
              "      <td>306.00</td>\n",
              "      <td>NaN</td>\n",
              "      <td>NaN</td>\n",
              "      <td>4.7</td>\n",
              "      <td>47.0</td>\n",
              "      <td>97.0</td>\n",
              "      <td>18.0</td>\n",
              "      <td>29.0</td>\n",
              "      <td>16.0</td>\n",
              "      <td>5.71</td>\n",
              "      <td>23.0</td>\n",
              "      <td>9.2</td>\n",
              "      <td>2.300</td>\n",
              "      <td>167.0</td>\n",
              "      <td>4.319</td>\n",
              "      <td>147.0</td>\n",
              "      <td>98.0</td>\n",
              "      <td>0.79</td>\n",
              "      <td>69.84</td>\n",
              "      <td>3.1</td>\n",
              "      <td>31.0</td>\n",
              "      <td>219.0</td>\n",
              "      <td>12.16</td>\n",
              "      <td>15.0</td>\n",
              "      <td>79.0</td>\n",
              "      <td>14.1</td>\n",
              "      <td>4.3</td>\n",
              "      <td>122.0</td>\n",
              "      <td>128.0</td>\n",
              "      <td>265.0</td>\n",
              "      <td>3.9</td>\n",
              "      <td>1.259</td>\n",
              "      <td>0.9</td>\n",
              "      <td>15.39</td>\n",
              "      <td>...</td>\n",
              "      <td>NaN</td>\n",
              "      <td>NaN</td>\n",
              "      <td>NaN</td>\n",
              "      <td>NaN</td>\n",
              "      <td>NaN</td>\n",
              "      <td>NaN</td>\n",
              "      <td>NaN</td>\n",
              "      <td>NaN</td>\n",
              "      <td>49123.400015</td>\n",
              "      <td>NaN</td>\n",
              "      <td>NaN</td>\n",
              "      <td>NaN</td>\n",
              "      <td>NaN</td>\n",
              "      <td>NaN</td>\n",
              "      <td>NaN</td>\n",
              "      <td>NaN</td>\n",
              "      <td>NaN</td>\n",
              "      <td>NaN</td>\n",
              "      <td>NaN</td>\n",
              "      <td>NaN</td>\n",
              "      <td>170.0</td>\n",
              "      <td>4.40</td>\n",
              "      <td>1.69</td>\n",
              "      <td>0.082</td>\n",
              "      <td>0.0</td>\n",
              "      <td>0.20</td>\n",
              "      <td>1.78</td>\n",
              "      <td>0.0</td>\n",
              "      <td>1.21</td>\n",
              "      <td>6.0</td>\n",
              "      <td>0.0</td>\n",
              "      <td>204.73</td>\n",
              "      <td>2.60</td>\n",
              "      <td>0.0</td>\n",
              "      <td>8.15</td>\n",
              "      <td>148.33</td>\n",
              "      <td>0.0</td>\n",
              "      <td>90.0</td>\n",
              "      <td>507.0</td>\n",
              "      <td>374.2</td>\n",
              "    </tr>\n",
              "    <tr>\n",
              "      <th>2</th>\n",
              "      <td>2</td>\n",
              "      <td>73559</td>\n",
              "      <td>11.9</td>\n",
              "      <td>11.9</td>\n",
              "      <td>113.0</td>\n",
              "      <td>9989.2</td>\n",
              "      <td>10.53</td>\n",
              "      <td>142196.890197</td>\n",
              "      <td>0.57</td>\n",
              "      <td>3.7</td>\n",
              "      <td>37.0</td>\n",
              "      <td>99.0</td>\n",
              "      <td>22.0</td>\n",
              "      <td>16.0</td>\n",
              "      <td>14.0</td>\n",
              "      <td>5.00</td>\n",
              "      <td>23.0</td>\n",
              "      <td>8.9</td>\n",
              "      <td>2.225</td>\n",
              "      <td>127.0</td>\n",
              "      <td>3.284</td>\n",
              "      <td>44.0</td>\n",
              "      <td>105.0</td>\n",
              "      <td>1.22</td>\n",
              "      <td>107.85</td>\n",
              "      <td>2.2</td>\n",
              "      <td>22.0</td>\n",
              "      <td>183.0</td>\n",
              "      <td>10.16</td>\n",
              "      <td>13.0</td>\n",
              "      <td>98.0</td>\n",
              "      <td>17.6</td>\n",
              "      <td>4.2</td>\n",
              "      <td>134.0</td>\n",
              "      <td>142.0</td>\n",
              "      <td>288.0</td>\n",
              "      <td>4.2</td>\n",
              "      <td>1.356</td>\n",
              "      <td>0.6</td>\n",
              "      <td>10.26</td>\n",
              "      <td>...</td>\n",
              "      <td>15.0</td>\n",
              "      <td>51.0</td>\n",
              "      <td>NaN</td>\n",
              "      <td>142196.890197</td>\n",
              "      <td>51.0</td>\n",
              "      <td>0.576</td>\n",
              "      <td>56.0</td>\n",
              "      <td>1.448</td>\n",
              "      <td>115794.742161</td>\n",
              "      <td>143745.934346</td>\n",
              "      <td>NaN</td>\n",
              "      <td>NaN</td>\n",
              "      <td>NaN</td>\n",
              "      <td>NaN</td>\n",
              "      <td>NaN</td>\n",
              "      <td>NaN</td>\n",
              "      <td>NaN</td>\n",
              "      <td>15.0</td>\n",
              "      <td>51.0</td>\n",
              "      <td>NaN</td>\n",
              "      <td>126.0</td>\n",
              "      <td>3.26</td>\n",
              "      <td>1.45</td>\n",
              "      <td>0.070</td>\n",
              "      <td>0.0</td>\n",
              "      <td>0.22</td>\n",
              "      <td>1.96</td>\n",
              "      <td>0.0</td>\n",
              "      <td>1.27</td>\n",
              "      <td>6.3</td>\n",
              "      <td>0.0</td>\n",
              "      <td>209.64</td>\n",
              "      <td>2.66</td>\n",
              "      <td>0.0</td>\n",
              "      <td>9.57</td>\n",
              "      <td>174.17</td>\n",
              "      <td>0.0</td>\n",
              "      <td>66.0</td>\n",
              "      <td>732.0</td>\n",
              "      <td>540.2</td>\n",
              "    </tr>\n",
              "    <tr>\n",
              "      <th>3</th>\n",
              "      <td>3</td>\n",
              "      <td>73560</td>\n",
              "      <td>16.0</td>\n",
              "      <td>16.0</td>\n",
              "      <td>76.0</td>\n",
              "      <td>6718.4</td>\n",
              "      <td>21.05</td>\n",
              "      <td>NaN</td>\n",
              "      <td>NaN</td>\n",
              "      <td>NaN</td>\n",
              "      <td>NaN</td>\n",
              "      <td>NaN</td>\n",
              "      <td>NaN</td>\n",
              "      <td>NaN</td>\n",
              "      <td>NaN</td>\n",
              "      <td>NaN</td>\n",
              "      <td>NaN</td>\n",
              "      <td>NaN</td>\n",
              "      <td>NaN</td>\n",
              "      <td>NaN</td>\n",
              "      <td>NaN</td>\n",
              "      <td>NaN</td>\n",
              "      <td>NaN</td>\n",
              "      <td>NaN</td>\n",
              "      <td>NaN</td>\n",
              "      <td>NaN</td>\n",
              "      <td>NaN</td>\n",
              "      <td>NaN</td>\n",
              "      <td>NaN</td>\n",
              "      <td>NaN</td>\n",
              "      <td>NaN</td>\n",
              "      <td>NaN</td>\n",
              "      <td>NaN</td>\n",
              "      <td>NaN</td>\n",
              "      <td>NaN</td>\n",
              "      <td>NaN</td>\n",
              "      <td>NaN</td>\n",
              "      <td>NaN</td>\n",
              "      <td>NaN</td>\n",
              "      <td>NaN</td>\n",
              "      <td>...</td>\n",
              "      <td>NaN</td>\n",
              "      <td>NaN</td>\n",
              "      <td>194.3</td>\n",
              "      <td>NaN</td>\n",
              "      <td>NaN</td>\n",
              "      <td>NaN</td>\n",
              "      <td>NaN</td>\n",
              "      <td>NaN</td>\n",
              "      <td>55766.512438</td>\n",
              "      <td>NaN</td>\n",
              "      <td>NaN</td>\n",
              "      <td>NaN</td>\n",
              "      <td>NaN</td>\n",
              "      <td>NaN</td>\n",
              "      <td>NaN</td>\n",
              "      <td>NaN</td>\n",
              "      <td>NaN</td>\n",
              "      <td>NaN</td>\n",
              "      <td>NaN</td>\n",
              "      <td>183653.604036</td>\n",
              "      <td>168.0</td>\n",
              "      <td>4.34</td>\n",
              "      <td>0.37</td>\n",
              "      <td>0.018</td>\n",
              "      <td>0.0</td>\n",
              "      <td>0.07</td>\n",
              "      <td>0.62</td>\n",
              "      <td>1.0</td>\n",
              "      <td>0.88</td>\n",
              "      <td>4.4</td>\n",
              "      <td>0.0</td>\n",
              "      <td>169.82</td>\n",
              "      <td>2.16</td>\n",
              "      <td>0.0</td>\n",
              "      <td>13.07</td>\n",
              "      <td>237.87</td>\n",
              "      <td>0.0</td>\n",
              "      <td>61.0</td>\n",
              "      <td>NaN</td>\n",
              "      <td>NaN</td>\n",
              "    </tr>\n",
              "    <tr>\n",
              "      <th>4</th>\n",
              "      <td>4</td>\n",
              "      <td>73561</td>\n",
              "      <td>255.0</td>\n",
              "      <td>255.0</td>\n",
              "      <td>147.0</td>\n",
              "      <td>12994.8</td>\n",
              "      <td>173.47</td>\n",
              "      <td>142266.006548</td>\n",
              "      <td>0.92</td>\n",
              "      <td>4.3</td>\n",
              "      <td>43.0</td>\n",
              "      <td>78.0</td>\n",
              "      <td>36.0</td>\n",
              "      <td>28.0</td>\n",
              "      <td>31.0</td>\n",
              "      <td>11.07</td>\n",
              "      <td>31.0</td>\n",
              "      <td>10.0</td>\n",
              "      <td>2.500</td>\n",
              "      <td>207.0</td>\n",
              "      <td>5.353</td>\n",
              "      <td>60.0</td>\n",
              "      <td>100.0</td>\n",
              "      <td>0.73</td>\n",
              "      <td>64.53</td>\n",
              "      <td>2.8</td>\n",
              "      <td>28.0</td>\n",
              "      <td>104.0</td>\n",
              "      <td>5.77</td>\n",
              "      <td>31.0</td>\n",
              "      <td>91.0</td>\n",
              "      <td>16.3</td>\n",
              "      <td>4.1</td>\n",
              "      <td>201.0</td>\n",
              "      <td>142.0</td>\n",
              "      <td>290.0</td>\n",
              "      <td>4.4</td>\n",
              "      <td>1.421</td>\n",
              "      <td>0.5</td>\n",
              "      <td>8.55</td>\n",
              "      <td>...</td>\n",
              "      <td>14.0</td>\n",
              "      <td>42.0</td>\n",
              "      <td>NaN</td>\n",
              "      <td>142266.006548</td>\n",
              "      <td>75.0</td>\n",
              "      <td>0.847</td>\n",
              "      <td>101.0</td>\n",
              "      <td>2.612</td>\n",
              "      <td>NaN</td>\n",
              "      <td>0.000000</td>\n",
              "      <td>NaN</td>\n",
              "      <td>NaN</td>\n",
              "      <td>NaN</td>\n",
              "      <td>NaN</td>\n",
              "      <td>NaN</td>\n",
              "      <td>NaN</td>\n",
              "      <td>3.0</td>\n",
              "      <td>14.0</td>\n",
              "      <td>42.0</td>\n",
              "      <td>NaN</td>\n",
              "      <td>201.0</td>\n",
              "      <td>5.20</td>\n",
              "      <td>NaN</td>\n",
              "      <td>NaN</td>\n",
              "      <td>NaN</td>\n",
              "      <td>NaN</td>\n",
              "      <td>NaN</td>\n",
              "      <td>NaN</td>\n",
              "      <td>NaN</td>\n",
              "      <td>NaN</td>\n",
              "      <td>NaN</td>\n",
              "      <td>NaN</td>\n",
              "      <td>NaN</td>\n",
              "      <td>NaN</td>\n",
              "      <td>NaN</td>\n",
              "      <td>NaN</td>\n",
              "      <td>NaN</td>\n",
              "      <td>5.0</td>\n",
              "      <td>225.0</td>\n",
              "      <td>166.1</td>\n",
              "    </tr>\n",
              "  </tbody>\n",
              "</table>\n",
              "<p>5 rows × 154 columns</p>\n",
              "</div>"
            ],
            "text/plain": [
              "   Unnamed: 0   SEQN  URXUMA  URXUMS  ...  LBDBMNLC  URXVOL1  LBDB12  LBDB12SI\n",
              "0           0  73557     4.3     4.3  ...       NaN     87.0   524.0     386.7\n",
              "1           1  73558   153.0   153.0  ...       0.0     90.0   507.0     374.2\n",
              "2           2  73559    11.9    11.9  ...       0.0     66.0   732.0     540.2\n",
              "3           3  73560    16.0    16.0  ...       0.0     61.0     NaN       NaN\n",
              "4           4  73561   255.0   255.0  ...       NaN      5.0   225.0     166.1\n",
              "\n",
              "[5 rows x 154 columns]"
            ]
          },
          "metadata": {
            "tags": []
          },
          "execution_count": 73
        }
      ]
    },
    {
      "cell_type": "markdown",
      "metadata": {
        "id": "wNJM696n-At9",
        "colab_type": "text"
      },
      "source": [
        "**Refining the dataset**"
      ]
    },
    {
      "cell_type": "code",
      "metadata": {
        "id": "UNGnCDkK9_K1",
        "colab_type": "code",
        "colab": {}
      },
      "source": [
        "newX = pd.merge(df_labs2, df_exams, on='SEQN', how='inner')"
      ],
      "execution_count": null,
      "outputs": []
    },
    {
      "cell_type": "code",
      "metadata": {
        "id": "MNrBgxhD-FMm",
        "colab_type": "code",
        "colab": {}
      },
      "source": [
        "newX = newX[['BMXBMI', 'LBDINSI']]"
      ],
      "execution_count": null,
      "outputs": []
    },
    {
      "cell_type": "code",
      "metadata": {
        "id": "6cIOrLPx_YkB",
        "colab_type": "code",
        "colab": {
          "base_uri": "https://localhost:8080/",
          "height": 67
        },
        "outputId": "e69266a9-5a11-403c-ac0d-0de439e8c9fa"
      },
      "source": [
        "#REmoving outliers\n",
        "low = .05\n",
        "high = .99\n",
        "quant_df = newX.quantile([low, high])\n",
        "print(quant_df)"
      ],
      "execution_count": null,
      "outputs": [
        {
          "output_type": "stream",
          "text": [
            "      BMXBMI   LBDINSI\n",
            "0.05  15.300   18.7800\n",
            "0.99  49.864  459.7776\n"
          ],
          "name": "stdout"
        }
      ]
    },
    {
      "cell_type": "code",
      "metadata": {
        "id": "eoi7TRW7_aXB",
        "colab_type": "code",
        "colab": {}
      },
      "source": [
        "#removing outliers\n",
        "newX = newX.apply(lambda x: x[(x>quant_df.loc[low,x.name]) & \n",
        "                                    (x < quant_df.loc[high,x.name])], axis=0)"
      ],
      "execution_count": null,
      "outputs": []
    },
    {
      "cell_type": "code",
      "metadata": {
        "id": "ss0CMllB_dB3",
        "colab_type": "code",
        "colab": {
          "base_uri": "https://localhost:8080/",
          "height": 402
        },
        "outputId": "86666133-47d6-439d-c6ae-5de24b88f371"
      },
      "source": [
        "newX"
      ],
      "execution_count": null,
      "outputs": [
        {
          "output_type": "execute_result",
          "data": {
            "text/html": [
              "<div>\n",
              "<style scoped>\n",
              "    .dataframe tbody tr th:only-of-type {\n",
              "        vertical-align: middle;\n",
              "    }\n",
              "\n",
              "    .dataframe tbody tr th {\n",
              "        vertical-align: top;\n",
              "    }\n",
              "\n",
              "    .dataframe thead th {\n",
              "        text-align: right;\n",
              "    }\n",
              "</style>\n",
              "<table border=\"1\" class=\"dataframe\">\n",
              "  <thead>\n",
              "    <tr style=\"text-align: right;\">\n",
              "      <th></th>\n",
              "      <th>BMXBMI</th>\n",
              "      <th>LBDINSI</th>\n",
              "    </tr>\n",
              "  </thead>\n",
              "  <tbody>\n",
              "    <tr>\n",
              "      <th>0</th>\n",
              "      <td>26.7</td>\n",
              "      <td>NaN</td>\n",
              "    </tr>\n",
              "    <tr>\n",
              "      <th>1</th>\n",
              "      <td>28.6</td>\n",
              "      <td>NaN</td>\n",
              "    </tr>\n",
              "    <tr>\n",
              "      <th>2</th>\n",
              "      <td>28.9</td>\n",
              "      <td>34.98</td>\n",
              "    </tr>\n",
              "    <tr>\n",
              "      <th>3</th>\n",
              "      <td>17.1</td>\n",
              "      <td>NaN</td>\n",
              "    </tr>\n",
              "    <tr>\n",
              "      <th>4</th>\n",
              "      <td>19.7</td>\n",
              "      <td>36.72</td>\n",
              "    </tr>\n",
              "    <tr>\n",
              "      <th>...</th>\n",
              "      <td>...</td>\n",
              "      <td>...</td>\n",
              "    </tr>\n",
              "    <tr>\n",
              "      <th>9808</th>\n",
              "      <td>24.5</td>\n",
              "      <td>22.56</td>\n",
              "    </tr>\n",
              "    <tr>\n",
              "      <th>9809</th>\n",
              "      <td>15.9</td>\n",
              "      <td>NaN</td>\n",
              "    </tr>\n",
              "    <tr>\n",
              "      <th>9810</th>\n",
              "      <td>34.0</td>\n",
              "      <td>NaN</td>\n",
              "    </tr>\n",
              "    <tr>\n",
              "      <th>9811</th>\n",
              "      <td>16.1</td>\n",
              "      <td>NaN</td>\n",
              "    </tr>\n",
              "    <tr>\n",
              "      <th>9812</th>\n",
              "      <td>19.3</td>\n",
              "      <td>NaN</td>\n",
              "    </tr>\n",
              "  </tbody>\n",
              "</table>\n",
              "<p>9234 rows × 2 columns</p>\n",
              "</div>"
            ],
            "text/plain": [
              "      BMXBMI  LBDINSI\n",
              "0       26.7      NaN\n",
              "1       28.6      NaN\n",
              "2       28.9    34.98\n",
              "3       17.1      NaN\n",
              "4       19.7    36.72\n",
              "...      ...      ...\n",
              "9808    24.5    22.56\n",
              "9809    15.9      NaN\n",
              "9810    34.0      NaN\n",
              "9811    16.1      NaN\n",
              "9812    19.3      NaN\n",
              "\n",
              "[9234 rows x 2 columns]"
            ]
          },
          "metadata": {
            "tags": []
          },
          "execution_count": 78
        }
      ]
    },
    {
      "cell_type": "code",
      "metadata": {
        "id": "725rflOw-Gk8",
        "colab_type": "code",
        "colab": {}
      },
      "source": [
        "X1 = newX['BMXBMI']"
      ],
      "execution_count": null,
      "outputs": []
    },
    {
      "cell_type": "code",
      "metadata": {
        "id": "htJyyuk8_h7x",
        "colab_type": "code",
        "colab": {
          "base_uri": "https://localhost:8080/",
          "height": 67
        },
        "outputId": "47abfa49-fea6-4ec9-a16c-8898b65bf535"
      },
      "source": [
        "newX.isna().sum()"
      ],
      "execution_count": null,
      "outputs": [
        {
          "output_type": "execute_result",
          "data": {
            "text/plain": [
              "BMXBMI       58\n",
              "LBDINSI    6328\n",
              "dtype: int64"
            ]
          },
          "metadata": {
            "tags": []
          },
          "execution_count": 80
        }
      ]
    },
    {
      "cell_type": "code",
      "metadata": {
        "id": "11TqoHmV_kGH",
        "colab_type": "code",
        "colab": {}
      },
      "source": [
        "newX['LBDINSI'] = newX['LBDINSI'].fillna(newX['LBDINSI'].mean())\n",
        "newX['BMXBMI'] = newX['BMXBMI'].fillna(newX['BMXBMI'].mean())"
      ],
      "execution_count": null,
      "outputs": []
    },
    {
      "cell_type": "code",
      "metadata": {
        "id": "TaI2BoFY_mjh",
        "colab_type": "code",
        "colab": {
          "base_uri": "https://localhost:8080/",
          "height": 67
        },
        "outputId": "d99adc73-670f-4958-c4ed-951285ef97b6"
      },
      "source": [
        "newX.isna().sum()"
      ],
      "execution_count": null,
      "outputs": [
        {
          "output_type": "execute_result",
          "data": {
            "text/plain": [
              "BMXBMI     0\n",
              "LBDINSI    0\n",
              "dtype: int64"
            ]
          },
          "metadata": {
            "tags": []
          },
          "execution_count": 82
        }
      ]
    },
    {
      "cell_type": "code",
      "metadata": {
        "id": "IVPzIBiW_tTI",
        "colab_type": "code",
        "colab": {}
      },
      "source": [
        "X1 = newX['BMXBMI']"
      ],
      "execution_count": null,
      "outputs": []
    },
    {
      "cell_type": "code",
      "metadata": {
        "id": "C2Vrt9jM-SH7",
        "colab_type": "code",
        "colab": {}
      },
      "source": [
        "Y1 = newX['LBDINSI']"
      ],
      "execution_count": null,
      "outputs": []
    },
    {
      "cell_type": "markdown",
      "metadata": {
        "id": "gDKM0KjlAGLZ",
        "colab_type": "text"
      },
      "source": [
        "**Encoding feature to binary**"
      ]
    },
    {
      "cell_type": "code",
      "metadata": {
        "id": "NxV122ZkAKRY",
        "colab_type": "code",
        "colab": {}
      },
      "source": [
        "enc = preprocessing.LabelEncoder()\n",
        "encodedY1 = enc.fit_transform(Y1)"
      ],
      "execution_count": null,
      "outputs": []
    },
    {
      "cell_type": "code",
      "metadata": {
        "id": "85LEHxFJPIwe",
        "colab_type": "code",
        "colab": {}
      },
      "source": [
        "Y1PD = pd.DataFrame(encodedY1)"
      ],
      "execution_count": null,
      "outputs": []
    },
    {
      "cell_type": "markdown",
      "metadata": {
        "id": "HZppNSMZ-XQR",
        "colab_type": "text"
      },
      "source": [
        "**Performing Logistic Regression**"
      ]
    },
    {
      "cell_type": "code",
      "metadata": {
        "id": "2awefslLOMRN",
        "colab_type": "code",
        "colab": {}
      },
      "source": [
        "X_train, X_test, y_train, y_test = train_test_split(X1, Y1PD, test_size=0.25, random_state=0)"
      ],
      "execution_count": null,
      "outputs": []
    },
    {
      "cell_type": "code",
      "metadata": {
        "id": "_3f0hj0qO5UL",
        "colab_type": "code",
        "colab": {}
      },
      "source": [
        "#reshape\n",
        "X_train = X_train.values.reshape(-1,1)"
      ],
      "execution_count": null,
      "outputs": []
    },
    {
      "cell_type": "code",
      "metadata": {
        "id": "OWXjkwUPO53F",
        "colab_type": "code",
        "colab": {}
      },
      "source": [
        "y_train = y_train.values.reshape(-1,1)"
      ],
      "execution_count": null,
      "outputs": []
    },
    {
      "cell_type": "code",
      "metadata": {
        "id": "QuDCoARSO6PQ",
        "colab_type": "code",
        "colab": {}
      },
      "source": [
        "X_test = X_test.values.reshape(-1,1)\n"
      ],
      "execution_count": null,
      "outputs": []
    },
    {
      "cell_type": "code",
      "metadata": {
        "id": "CTbsILvQQ9ae",
        "colab_type": "code",
        "colab": {}
      },
      "source": [
        "#Feature Scaling\n",
        "from sklearn.preprocessing import StandardScaler\n",
        "sc = StandardScaler()\n",
        "X_train = sc.fit_transform(X_train)\n",
        "X_test = sc.transform(X_test)"
      ],
      "execution_count": null,
      "outputs": []
    },
    {
      "cell_type": "code",
      "metadata": {
        "id": "Pq6SO-BP-1F0",
        "colab_type": "code",
        "colab": {}
      },
      "source": [
        "logreg = LogisticRegression(random_state=0, max_iter=1000)"
      ],
      "execution_count": null,
      "outputs": []
    },
    {
      "cell_type": "code",
      "metadata": {
        "id": "nLFi_tTC_Mi6",
        "colab_type": "code",
        "colab": {
          "base_uri": "https://localhost:8080/",
          "height": 101
        },
        "outputId": "3e5b3dee-88f4-4b67-916e-9deeda9838d7"
      },
      "source": [
        "# Train the model using the training sets\n",
        "logreg.fit(X_train, y_train.ravel())"
      ],
      "execution_count": null,
      "outputs": [
        {
          "output_type": "execute_result",
          "data": {
            "text/plain": [
              "LogisticRegression(C=1.0, class_weight=None, dual=False, fit_intercept=True,\n",
              "                   intercept_scaling=1, l1_ratio=None, max_iter=1000,\n",
              "                   multi_class='auto', n_jobs=None, penalty='l2',\n",
              "                   random_state=0, solver='lbfgs', tol=0.0001, verbose=0,\n",
              "                   warm_start=False)"
            ]
          },
          "metadata": {
            "tags": []
          },
          "execution_count": 95
        }
      ]
    },
    {
      "cell_type": "code",
      "metadata": {
        "id": "0ri0PWxf_QZo",
        "colab_type": "code",
        "colab": {}
      },
      "source": [
        "y_pred=logreg.predict(X_test)"
      ],
      "execution_count": null,
      "outputs": []
    },
    {
      "cell_type": "code",
      "metadata": {
        "id": "Y3wwL7SlS8OD",
        "colab_type": "code",
        "colab": {
          "base_uri": "https://localhost:8080/",
          "height": 34
        },
        "outputId": "5e0bc863-accc-4047-9e96-c13e7c0843e2"
      },
      "source": [
        "print(\"Accuracy:\",metrics.accuracy_score(y_test, y_pred))"
      ],
      "execution_count": null,
      "outputs": [
        {
          "output_type": "stream",
          "text": [
            "Accuracy: 0.6829796448679082\n"
          ],
          "name": "stdout"
        }
      ]
    },
    {
      "cell_type": "code",
      "metadata": {
        "id": "SQOMtLzzTBtW",
        "colab_type": "code",
        "colab": {}
      },
      "source": [
        ""
      ],
      "execution_count": null,
      "outputs": []
    }
  ]
}